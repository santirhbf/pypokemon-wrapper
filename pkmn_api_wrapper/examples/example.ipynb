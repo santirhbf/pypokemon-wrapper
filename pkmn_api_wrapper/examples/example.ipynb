{
 "cells": [
  {
   "cell_type": "code",
   "execution_count": null,
   "metadata": {},
   "outputs": [],
   "source": [
    "import sys\n",
    "\n",
    "sys.path.append(\"../..\")  # this is including the parent directory in the path\n",
    "\n",
    "from pokeapi_wrapper.api import PokeAPI"
   ]
  },
  {
   "cell_type": "code",
   "execution_count": 11,
   "metadata": {},
   "outputs": [
    {
     "name": "stdout",
     "output_type": "stream",
     "text": [
      "Fetching Bulbasaur...\n"
     ]
    }
   ],
   "source": [
    "# Initialize the API client\n",
    "api = PokeAPI()\n",
    "\n",
    "# Fetch a Pokémon by name\n",
    "print(\"Fetching Bulbasaur...\")\n",
    "bulbasaur = api.get_pokemon(\"bulbasaur\")"
   ]
  },
  {
   "cell_type": "code",
   "execution_count": 12,
   "metadata": {},
   "outputs": [
    {
     "name": "stdout",
     "output_type": "stream",
     "text": [
      "Name: bulbasaur\n",
      "ID: 1\n",
      "Height: 0.7 m\n",
      "Weight: 6.9 kg\n"
     ]
    }
   ],
   "source": [
    "# Display basic information\n",
    "print(f\"Name: {bulbasaur.name}\")\n",
    "print(f\"ID: {bulbasaur.id}\")\n",
    "print(f\"Height: {bulbasaur.height/10} m\")  # Height is in decimeters\n",
    "print(f\"Weight: {bulbasaur.weight/10} kg\")  # Weight is in hectograms"
   ]
  },
  {
   "cell_type": "code",
   "execution_count": 13,
   "metadata": {},
   "outputs": [
    {
     "name": "stdout",
     "output_type": "stream",
     "text": [
      "\n",
      "Types:\n",
      "- grass\n",
      "- poison\n",
      "\n",
      "Abilities:\n",
      "- overgrow\n",
      "- chlorophyll (hidden)\n"
     ]
    }
   ],
   "source": [
    "# Display types\n",
    "print(\"\\nTypes:\")\n",
    "for type_info in bulbasaur.types:\n",
    "    print(f\"- {type_info.type['name']}\")\n",
    "\n",
    "# Display abilities\n",
    "print(\"\\nAbilities:\")\n",
    "for ability_info in bulbasaur.abilities:\n",
    "    hidden_text = \" (hidden)\" if ability_info.is_hidden else \"\"\n",
    "    print(f\"- {ability_info.ability['name']}{hidden_text}\")"
   ]
  },
  {
   "cell_type": "code",
   "execution_count": 15,
   "metadata": {},
   "outputs": [
    {
     "name": "stdout",
     "output_type": "stream",
     "text": [
      "\n",
      "Bulbasaur ASCII Art:\n",
      "                                                            \n",
      "                                                            \n",
      "                                                            \n",
      "                                                            \n",
      "                                                            \n",
      "                                                            \n",
      "                                                            \n",
      "                                                            \n",
      "                                  I                         \n",
      "                           w&&&&dddI'                       \n",
      "                   ZZ]ZZZZgvZZg&&&ddw'                      \n",
      "                   ZZZLLLZZgggg'&dddww'                     \n",
      "                  vLZZLLZg]iQvLLvwwwIww                     \n",
      "                 v'ggggggggggLvLLLLLw'                      \n",
      "                   LLiiiiii]LLLLLLvvLv                      \n",
      "                     ggLLLLLvgLL'LLvvL'                     \n",
      "                     LggLL LgLgL 'L]]'                      \n",
      "                           ''''                             \n",
      "                                                            \n",
      "                                                            \n",
      "                                                            \n",
      "                                                            \n",
      "                                                            \n",
      "                                                            \n",
      "                                                            \n",
      "                                                            \n",
      "                                                            \n"
     ]
    }
   ],
   "source": [
    "# Display ASCII art\n",
    "print(\"\\nBulbasaur ASCII Art:\")\n",
    "bulbasaur.get_ascii_sprite(width=60)\n",
    "pass"
   ]
  }
 ],
 "metadata": {
  "kernelspec": {
   "display_name": "base",
   "language": "python",
   "name": "python3"
  },
  "language_info": {
   "codemirror_mode": {
    "name": "ipython",
    "version": 3
   },
   "file_extension": ".py",
   "mimetype": "text/x-python",
   "name": "python",
   "nbconvert_exporter": "python",
   "pygments_lexer": "ipython3",
   "version": "3.10.14"
  }
 },
 "nbformat": 4,
 "nbformat_minor": 2
}
